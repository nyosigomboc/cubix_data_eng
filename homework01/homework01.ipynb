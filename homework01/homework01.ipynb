{
 "cells": [
  {
   "cell_type": "markdown",
   "id": "20034737-fc30-41e0-8308-f895781af6fd",
   "metadata": {},
   "source": [
    "Original text is unavailable. Homework was provided in a web-based PDF viewer without a save button. PDF file format doesn't necessarily render spaces as spaces, sometimes coordinates provide positioning instead of X number of spaces:\n",
    "```\n",
    "<div style=\"left: 118.04px; top: 317.233px; font-size: 18.4px; font-family: sans-serif; transform: scaleX(0.893967);\">Python is a high</div>\n",
    "<div style=\"left: 235.6333333333333px; top: 317.2333333333333px; font-size: 18.4px; font-family: sans-serif;\">-</div>\n",
    "<div style=\"left: 241.233px; top: 317.233px; font-size: 18.4px; font-family: sans-serif; transform: scaleX(0.905979);\">level, general</div>\n",
    "...\n",
    "<div style=\"left: 118.04px; top: 429.283px; font-size: 18.4px; font-family: sans-serif; transform: scaleX(0.907185);\">one of the       most popular programming languages.</div>\n",
    "<div style=\"left: 516.717px; top: 429.283px; font-size: 18.4px; font-family: sans-serif; transform: scaleX(0.900499);\">The developers of </div>\n",
    "...\n",
    "```\n",
    "When copy-pasting this text from the browser, several things can happen. Firefox inserts line brakes at the end of DIVs - DIVs are by default block HTML elements - so this is probably the correct behaviour.\n",
    "Brave on the other hand ignores these line breaks, and copies the text without any to the clipboard.\n",
    "Firefox variants use the Gecko engine, while Brave is a Chromium/Webkit/KHTML variant, so probably they behave similarly within an engine family, no need to check Chromium, Chrome, etc. as well. All currently up-to-date browsers use either of these engines.\n",
    "Let's try to sanitize this:"
   ]
  },
  {
   "cell_type": "code",
   "execution_count": 1,
   "id": "d12212f1-296e-47a5-ac8a-dc43634a28b6",
   "metadata": {},
   "outputs": [],
   "source": [
    "# 1. Assign this text to a variable\n",
    "firefox_text = \"\"\"Python is a high\n",
    "-\n",
    "level, general\n",
    "-\n",
    "purpose     programming language. Its design philosophy emphasizes \n",
    "code readability. Guido van Rossum, a Dutch       computer \n",
    "programmer, began working on    Python     \n",
    "in the late 1980s as a successor to the ABC programming language, and first released      it as Python \n",
    "0.9.0 in 1991. Python 2.0 was released in 2000, and Python 3.0, released in 2008, was a major \n",
    "revision not com\n",
    "pletely    backward\n",
    "-\n",
    "compatible     with earlier versions. Python consistently ranks as \n",
    "one of the       most popular programming languages.\n",
    "The developers of \n",
    "Python     aim for it to be fun \n",
    "to use. This is reflected in its name, a tribute to the      Briti\n",
    "sh comedy group Monty Python, and in \n",
    "occasionally playful approaches to tutorials       and reference materials.\n",
    "\"\"\"\n",
    "# this time triple quotes/multiline strings are the most convenient"
   ]
  },
  {
   "cell_type": "code",
   "execution_count": 2,
   "id": "beb97694-a07c-4559-a3ae-7702c3e70f60",
   "metadata": {},
   "outputs": [],
   "source": [
    "brave_text = \"Python is a high-level, general-purpose     programming language. Its design philosophy emphasizes code readability. Guido van Rossum, a Dutch       computer programmer, began working on    Python     in the late 1980s as a successor to the ABC programming language, and first released      it as Python 0.9.0 in 1991. Python 2.0 was released in 2000, and Python 3.0, released in 2008, was a major revision not completely    backward-compatible     with earlier versions. Python consistently ranks as one of the       most popular programming languages.The developers of Python     aim for it to be fun to use. This is reflected in its name, a tribute to the      British comedy group Monty Python, and in occasionally playful approaches to tutorials       and reference materials.\""
   ]
  },
  {
   "cell_type": "code",
   "execution_count": 3,
   "id": "3b4ecbc9-2a5d-4793-9827-f0ee1da8b7df",
   "metadata": {},
   "outputs": [],
   "source": [
    "# 2. Break the text into multiple program lines in the cell, so that we don’t need to scroll the cell.\n",
    "# brave_text above is indeed ugly, let's correct that here:\n",
    "brave_text = \"Python is a high-level, general-purpose     programming language. \\\n",
    "Its design philosophy emphasizes code readability. Guido van Rossum, a Dutch       computer programmer, began \\\n",
    "working on    Python     in the late 1980s as a successor to the ABC programming language, and first \\\n",
    "released      it as Python 0.9.0 in 1991. Python 2.0 was released in 2000, and Python 3.0, released \\\n",
    "in 2008, was a major revision not completely    backward-compatible     with earlier versions. Python \\\n",
    "consistently ranks as one of the       most popular programming languages.The developers of Python     \\\n",
    "aim for it to be fun to use. This is reflected in its name, a tribute to the      British comedy group \\\n",
    "Monty Python, and in occasionally playful approaches to tutorials       and reference materials.\""
   ]
  },
  {
   "cell_type": "code",
   "execution_count": 4,
   "id": "61ecde8a-55d3-497f-8edd-28e30e353221",
   "metadata": {},
   "outputs": [],
   "source": [
    "# Before continuing the assignment, let's clean up the Firefox variant as well (remove white space), and then check if they match:\n",
    "firefox_text = firefox_text.replace('\\n', '')\n",
    "assert firefox_text == brave_text"
   ]
  },
  {
   "cell_type": "code",
   "execution_count": 5,
   "id": "389db99a-dff4-4c4b-b3ff-7e3cd25fb69b",
   "metadata": {},
   "outputs": [],
   "source": [
    "# Nice, they seem to match.\n",
    "# 3. Remove all the unnecessary spaces from the text (full trim).\n",
    "\n",
    "# Let's write a simple function for removing spaces:\n",
    "def true_trim(s: str) -> str:\n",
    "    return ' '.join(s.split())\n",
    "\n",
    "\n",
    "# We can use it to clean up both strings (they should lead to the same result, they have the same content)\n",
    "firefox_text = true_trim(firefox_text)\n",
    "brave_text = true_trim(brave_text)\n",
    "assert firefox_text == brave_text"
   ]
  },
  {
   "cell_type": "code",
   "execution_count": 6,
   "id": "0a296b48-e6b0-4cc0-b316-58103cb5f439",
   "metadata": {},
   "outputs": [
    {
     "name": "stdout",
     "output_type": "stream",
     "text": [
      "PYTHON is a high-level, general-purpose programming language.\n",
      "Its design philosophy emphasizes code readability.\n",
      "Guido van Rossum, a Dutch computer programmer, began working on PYTHON in the late 1980s as a successor to the ABC programming language, and first released it as PYTHON 0_9_0 in 1991.\n",
      "PYTHON 2_0 was released in 2000, and PYTHON 3_0, released in 2008, was a major revision not completely backward-compatible with earlier versions.\n",
      "PYTHON consistently ranks as one of the most popular programming languages.\n",
      "The developers of PYTHON aim for it to be fun to use.\n",
      "This is reflected in its name, a tribute to the British comedy group Monty PYTHON, and in occasionally playful approaches to tutorials and reference materials.\n",
      "\n"
     ]
    }
   ],
   "source": [
    "# Nice! Now choose one, and call this text. From now on, one of these is enough. (deleting the variables would not be important, it's a small text)\n",
    "text = firefox_text\n",
    "# 4. Replace all “Python” words to upper case.\n",
    "word_to_replace = \"Python\"\n",
    "text = text.replace(word_to_replace, word_to_replace.upper())\n",
    "# 5. Within version numbers, change points (.) to underscores (_).\n",
    "# This is a bit trickier, because '.' can be a full stop at the end of a sentence, or part of a version number. A simple replace won't be enough.\n",
    "# The correct solution would probably be re.sub, regular expressions could handle this easily. If there is a decimal number after the '.', it's part of a\n",
    "# version number. So \\.(\\d) could be replaced by _\\1. Now do this without regexp, loops could handle this situation.\n",
    "text_backup = text\n",
    "idx = 0\n",
    "while (idx := text.find('.', idx)) != -1:\n",
    "    if idx + 1 < len(text) and text[idx + 1].isdigit():\n",
    "        text = text[0: idx] + '_' + text[idx + 1:]  # strings are immutable, so either do it this way, or convert the str to a list, then convert it back\n",
    "    idx += 2  # skip both the . and the digit\n",
    "\n",
    "# just for the record:\n",
    "import re\n",
    "text_regexp = re.sub(r'\\.(\\d)', r'_\\1', text_backup)  # IMHO a lot nicer\n",
    "assert text_regexp == text\n",
    "# 6. Insert line breaks after the end of each sentence.\n",
    "# Let's use re this time. The end of a sentence can be '.' or '?' or '!' with an unknown (after cleanup 0 or 1) number of spaces following it\n",
    "# e.g. \"languages.The developers\" has no space, the PDF \"inserted\" it by positioning the sentence slightly to the right.\n",
    "text = re.sub(r'([.?!])[ ]*', r'\\1\\n' , text)\n",
    "#7. Write out the cleaned text by print().\n",
    "print(text)"
   ]
  },
  {
   "cell_type": "code",
   "execution_count": 11,
   "id": "7f79e904-7ac4-4479-8f54-f31f07a9e2d7",
   "metadata": {},
   "outputs": [
    {
     "name": "stdout",
     "output_type": "stream",
     "text": [
      "0_9_0 in 1991\n"
     ]
    }
   ],
   "source": [
    "# 8. Find the position of the very first release of Python in the text, then use the slicing \n",
    "# to write out only that part of the text which contains the name of the first release version \n",
    "# and the year.\n",
    "\n",
    "# Finding the position could be done in several ways.\n",
    "# * By hand. This is bad, especially if we need to clean up similar texts by program.\n",
    "# * By using loops and the find method like above. Unfortunately we don't know what version to look for directly with str.find, so that's not enough.\n",
    "# * By using regular expressions. Versions tend to have 2 or 3 numbers separated by a '.' (now replaced by '_').\n",
    "# The release year is 4 digits. Python didn't run on the Antikythera mechanism.\n",
    "\n",
    "if m := re.search(r'\\d+_\\d+.*\\d{4}', text):\n",
    "    start_index = m.start()\n",
    "    end_index = m.end()\n",
    "    print(text[start_index:end_index])  # same as m.group(), but the assignment asked for the slicing operator\n",
    "else:\n",
    "    print(\"Not found\")"
   ]
  },
  {
   "cell_type": "code",
   "execution_count": 8,
   "id": "a2f50aaa-b0a9-4091-a419-765506aed53a",
   "metadata": {},
   "outputs": [
    {
     "name": "stdout",
     "output_type": "stream",
     "text": [
      "KTHXBYE\n"
     ]
    }
   ],
   "source": [
    "# 9. Print a final message to the user. \n",
    "\n",
    "print(\"KTHXBYE\")"
   ]
  }
 ],
 "metadata": {
  "kernelspec": {
   "display_name": "Python 3 (ipykernel)",
   "language": "python",
   "name": "python3"
  },
  "language_info": {
   "codemirror_mode": {
    "name": "ipython",
    "version": 3
   },
   "file_extension": ".py",
   "mimetype": "text/x-python",
   "name": "python",
   "nbconvert_exporter": "python",
   "pygments_lexer": "ipython3",
   "version": "3.11.7"
  }
 },
 "nbformat": 4,
 "nbformat_minor": 5
}
