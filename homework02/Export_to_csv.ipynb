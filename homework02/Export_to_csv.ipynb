{
 "cells": [
  {
   "cell_type": "markdown",
   "id": "b4e44d42-bf01-41e5-a532-0270f9b99152",
   "metadata": {},
   "source": [
    "# Writes a Pandas DataFrame into a csv file\n",
    "Currently its data input is a variable called 'df_export', while path/file inputs are 3 constants: BASE_PATH, OUTPUT_FOLDER, OUTPUT_CSV that together hold the path and file name of the output CSV.\n",
    "Probably in the future it would make sense to put this into a function instead."
   ]
  },
  {
   "cell_type": "code",
   "execution_count": 6,
   "id": "860b831a-36f2-4027-8fa5-c4d04f213ab4",
   "metadata": {
    "scrolled": true
   },
   "outputs": [
    {
     "name": "stdout",
     "output_type": "stream",
     "text": [
      "This module is intended to be called by %run after setting df_export, and not run separately.\n"
     ]
    }
   ],
   "source": [
    "import pandas as pd\n",
    "from os.path import join\n",
    "\n",
    "def my_write_csv(data_frame: pd.DataFrame, *path_segments: str) -> None:\n",
    "    data_frame.to_csv(join(*path_segments), sep=\";\", encoding=\"utf-8\")\n",
    "\n",
    "try:\n",
    "    # df_export.to_csv(join(BASE_PATH, OUTPUT_FOLDER, OUTPUT_CSV), sep=\";\", encoding=\"utf-8\")\n",
    "    my_write_csv(df_export, BASE_PATH, OUTPUT_FOLDER, OUTPUT_CSV)  # this could be called from the includer file\n",
    "except NameError:\n",
    "    print('This module is intended to be called by %run after setting df_export, and not run separately.')"
   ]
  }
 ],
 "metadata": {
  "kernelspec": {
   "display_name": "Python 3 (ipykernel)",
   "language": "python",
   "name": "python3"
  },
  "language_info": {
   "codemirror_mode": {
    "name": "ipython",
    "version": 3
   },
   "file_extension": ".py",
   "mimetype": "text/x-python",
   "name": "python",
   "nbconvert_exporter": "python",
   "pygments_lexer": "ipython3",
   "version": "3.11.7"
  }
 },
 "nbformat": 4,
 "nbformat_minor": 5
}
