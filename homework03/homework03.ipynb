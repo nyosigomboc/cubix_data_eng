{
 "cells": [
  {
   "cell_type": "markdown",
   "id": "49470194-4846-45fa-8827-eac39b60bbf1",
   "metadata": {},
   "source": [
    "# Homework - Week 3:\n",
    "```\n",
    "Create a script which asks the user to input data and calculates with that input.\n",
    "Tasks:\n",
    "1.Ask the user to type an INTEGER number between 1 and 30 (INPUT)\n",
    "2.Check if the input is correct:\n",
    "  a.If the user inputs a TEXT, print a message: 'Type a NUMBER, not a text!'\n",
    "  b.If the user inputs a number which is NOT INTEGER, print a message: 'Number must be INTEGER!'\n",
    "  c.If the user inputs an integer NOT BETWEEN 1 AND 30, print a message: 'Number must be BETWEEN 1 and 30!'\n",
    "Remember that the input data is a STRING by default, so if you need to calculate with it, you need to convert it to FLOAT or INT, e.g.: float(n), int(n)\n",
    "3.Use a WHILE loop to ask for input again and again in case of invalid inputs, until the input is valid\n",
    "4.Create a CUSTOM FUNCTION named ‘is_divisible(number, divisor)’ which checks if the number is divisible by the divisor, if divisible, it should return True (otherwise False)\n",
    "5.Then use FOR loop to loop through the integer numbers between 1 and the number typed by the user, and by using the custom function you created,\n",
    "  a.Print all the EVEN numbers between 1 and the number typed by the user\n",
    "  b.Print all the numbers DIVISIBLE BY 3 between 1 and the number typed by the user \n",
    "Upload your final Jupyter notebook (.ipynb) in ZIP!\n",
    "```"
   ]
  },
  {
   "cell_type": "code",
   "execution_count": 1,
   "id": "5deb6178-9fa4-4df1-a234-c432bd358c09",
   "metadata": {},
   "outputs": [],
   "source": [
    "def validated_reader(question: str,\n",
    "                     checker: callable = None, checker_fail: str = '',\n",
    "                     converter: callable = None, convert_fail: str = '',\n",
    "                     validator: callable = None, validator_fail: str = '') -> any:\n",
    "    \"\"\"\n",
    "    Prompts the user with a question and validates the input based on provided\n",
    "    checker, converter and validator functions.\n",
    "    The checker - if not None - just checks if the input could be converted without an exception.\n",
    "    The converter must convert the string input (its only parameter) to the desired type.\n",
    "    If it's not possible, it must raise an exception (e.g. ValueError).\n",
    "    The validator is also a function, its only parameter is the converted value, and must\n",
    "    return a bool. Its value must be True if the value is acceptable, False otherwise.\n",
    "    Both the converter and validator can be None. In this case that functionality won't be used.\n",
    "\n",
    "    Args:\n",
    "        question (str): The prompt to display to the user.\n",
    "        checker (callable, optional): A function to check the input. Defaults to None.\n",
    "        checker_fail (str, optional): Message to display when checker fails. Defaults to ''.\n",
    "        converter (callable, optional): A function to convert the input. Defaults to None.\n",
    "        convert_fail (str, optional): Message to display when conversion fails. Defaults to ''.\n",
    "        validator (callable, optional): A function to validate the input. Defaults to None.\n",
    "        validator_fail (str, optional): Message to display when validation fails. Defaults to ''.\n",
    "\n",
    "    Returns:\n",
    "        any: The converted and validated input.\n",
    "\n",
    "    Raises:\n",
    "        Any exceptions raised by the converter function. (and also handles them)\n",
    "    \"\"\"\n",
    "    while True:  # we'll return\n",
    "        try:\n",
    "            result = input(question)  # print the question and read the answer (as a string)\n",
    "            \n",
    "            if checker is not None:  # only covert if there is a coverter\n",
    "                try:\n",
    "                    checker(result)  # try to convert - and catch the thrown exception\n",
    "                except Exception as e:\n",
    "                    print(checker_fail)\n",
    "                    continue\n",
    "            \n",
    "            if converter is not None:  # only covert if there is a coverter\n",
    "                result = converter(result)  # try to convert - and catch the thrown exception\n",
    "                \n",
    "            if (validator is None or validator(result)):  # if there is a validator, it must be satisfied\n",
    "                return result  # yay!\n",
    "            else:\n",
    "                print(validator_fail)  # user wrote the correct type but not the correct value\n",
    "        except Exception as e:\n",
    "            print(convert_fail)  # coverter function raised an Exception"
   ]
  },
  {
   "cell_type": "code",
   "execution_count": 2,
   "id": "d6a043c4-096e-4817-9e01-e51c67b1891e",
   "metadata": {},
   "outputs": [
    {
     "name": "stdin",
     "output_type": "stream",
     "text": [
      "Please write a number between 1 and 30: asdf\n"
     ]
    },
    {
     "name": "stdout",
     "output_type": "stream",
     "text": [
      "Type a NUMBER, not a text!\n"
     ]
    },
    {
     "name": "stdin",
     "output_type": "stream",
     "text": [
      "Please write a number between 1 and 30: 10.2\n"
     ]
    },
    {
     "name": "stdout",
     "output_type": "stream",
     "text": [
      "Number must be INTEGER!\n"
     ]
    },
    {
     "name": "stdin",
     "output_type": "stream",
     "text": [
      "Please write a number between 1 and 30: 55\n"
     ]
    },
    {
     "name": "stdout",
     "output_type": "stream",
     "text": [
      "Number must be BETWEEN 1 and 30!\n"
     ]
    },
    {
     "name": "stdin",
     "output_type": "stream",
     "text": [
      "Please write a number between 1 and 30: -1\n"
     ]
    },
    {
     "name": "stdout",
     "output_type": "stream",
     "text": [
      "Number must be BETWEEN 1 and 30!\n"
     ]
    },
    {
     "name": "stdin",
     "output_type": "stream",
     "text": [
      "Please write a number between 1 and 30: 22\n"
     ]
    }
   ],
   "source": [
    "received_integer = validated_reader('Please write a number between 1 and 30:',\n",
    "                     float, 'Type a NUMBER, not a text!',\n",
    "                     int, 'Number must be INTEGER!',\n",
    "                     lambda x: 1 <= x <= 30, 'Number must be BETWEEN 1 and 30!')\n",
    "# \"between\" could be strictly 1 < x < 30 or a pythonic 1 <= x < 30 as well"
   ]
  },
  {
   "cell_type": "code",
   "execution_count": 3,
   "id": "96ba11eb-2928-4b10-826e-4e547929b2cd",
   "metadata": {},
   "outputs": [],
   "source": [
    "def is_divisible(number: int, divisor: int) -> bool:\n",
    "    \"\"\"\n",
    "    Checks if a number is divisible by another number.\n",
    "\n",
    "    Args:\n",
    "        number (int): The number to be checked for divisibility.\n",
    "        divisor (int): The divisor to check divisibility against.\n",
    "\n",
    "    Returns:\n",
    "        bool: True if the number is divisible by the divisor, False otherwise.\n",
    "    \"\"\"\n",
    "    return number % divisor == 0"
   ]
  },
  {
   "cell_type": "code",
   "execution_count": 4,
   "id": "4746be8e-6765-43ed-b7e2-0f0b3b0ebd9c",
   "metadata": {
    "scrolled": true
   },
   "outputs": [
    {
     "name": "stdout",
     "output_type": "stream",
     "text": [
      "2 is EVEN\n",
      "3 is DIVISIBLE BY 3\n",
      "4 is EVEN\n",
      "6 is EVEN\n",
      "6 is DIVISIBLE BY 3\n",
      "8 is EVEN\n",
      "9 is DIVISIBLE BY 3\n",
      "10 is EVEN\n",
      "12 is EVEN\n",
      "12 is DIVISIBLE BY 3\n",
      "14 is EVEN\n",
      "15 is DIVISIBLE BY 3\n",
      "16 is EVEN\n",
      "18 is EVEN\n",
      "18 is DIVISIBLE BY 3\n",
      "20 is EVEN\n",
      "21 is DIVISIBLE BY 3\n",
      "22 is EVEN\n"
     ]
    }
   ],
   "source": [
    "for i in range(1, received_integer + 1):\n",
    "    if is_divisible(i, 2):\n",
    "        print(str(i), \"is EVEN\")\n",
    "    if is_divisible(i, 3):\n",
    "        print(f\"{i} is DIVISIBLE BY 3\")"
   ]
  },
  {
   "cell_type": "code",
   "execution_count": 5,
   "id": "881cc4df-cb34-4adf-92d9-5fd812f932f5",
   "metadata": {},
   "outputs": [
    {
     "name": "stdout",
     "output_type": "stream",
     "text": [
      "All done.\n"
     ]
    }
   ],
   "source": [
    "print(\"All done.\")"
   ]
  }
 ],
 "metadata": {
  "kernelspec": {
   "display_name": "Python 3 (ipykernel)",
   "language": "python",
   "name": "python3"
  },
  "language_info": {
   "codemirror_mode": {
    "name": "ipython",
    "version": 3
   },
   "file_extension": ".py",
   "mimetype": "text/x-python",
   "name": "python",
   "nbconvert_exporter": "python",
   "pygments_lexer": "ipython3",
   "version": "3.11.7"
  }
 },
 "nbformat": 4,
 "nbformat_minor": 5
}
