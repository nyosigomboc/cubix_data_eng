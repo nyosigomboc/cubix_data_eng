{
 "cells": [
  {
   "cell_type": "markdown",
   "id": "8288e44d-aa44-445c-bfa3-1543538b0436",
   "metadata": {},
   "source": [
    "# Cleanup of df DataFrame\n",
    "Doesn't run separately, created from the 2nd week's homework"
   ]
  },
  {
   "cell_type": "code",
   "execution_count": null,
   "id": "8af739d4-e43f-4b08-a257-8dbc36e2e6fb",
   "metadata": {},
   "outputs": [],
   "source": [
    "df['Class'] = df['Class'].str.strip()\n",
    "df['OrderDate'] = df['OrderDate'].astype('datetime64[ns]')\n",
    "df['LineTotal'] = df['LineTotal'].str.replace(',', '.').astype('float64')  # Could be float32 instead.\n",
    "# In Python, there is only one float type, which is a double.\n",
    "# In C/C++/Java and some others, float refers to the single precision floating point type, while double means the 64 bit long one.\n",
    "# See the IEEE 754 standard.\n",
    "# Numpy arrays, Pandas DataFrames, PyTorch tensors and some others have more types when needed."
   ]
  },
  {
   "cell_type": "code",
   "execution_count": null,
   "id": "224ef4e6-5bc3-4e37-be6a-f218251bb661",
   "metadata": {},
   "outputs": [],
   "source": [
    "sizes = df['ProductName'].str.split(',', expand=True)[1].str.strip()\n",
    "for color in ['Black', 'Red', 'Blue']:\n",
    "    sizes = sizes.replace(color, '-')\n",
    "df['Size'] = sizes"
   ]
  },
  {
   "cell_type": "code",
   "execution_count": null,
   "id": "65755009-4f61-47bc-bc72-0c38275c73d8",
   "metadata": {},
   "outputs": [],
   "source": [
    "df = df.sort_values(['OrderDate', 'Country']).reset_index(drop=True)"
   ]
  }
 ],
 "metadata": {
  "kernelspec": {
   "display_name": "Python 3 (ipykernel)",
   "language": "python",
   "name": "python3"
  },
  "language_info": {
   "codemirror_mode": {
    "name": "ipython",
    "version": 3
   },
   "file_extension": ".py",
   "mimetype": "text/x-python",
   "name": "python",
   "nbconvert_exporter": "python",
   "pygments_lexer": "ipython3",
   "version": "3.11.7"
  }
 },
 "nbformat": 4,
 "nbformat_minor": 5
}
