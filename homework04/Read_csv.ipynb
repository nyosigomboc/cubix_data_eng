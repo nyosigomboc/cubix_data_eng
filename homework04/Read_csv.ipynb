{
 "cells": [
  {
   "cell_type": "markdown",
   "id": "5623d8ed-de54-453b-8325-1839abdeef8f",
   "metadata": {},
   "source": [
    "# Provides a function to read CSV files"
   ]
  },
  {
   "cell_type": "code",
   "execution_count": 1,
   "id": "aabfaa1b-bb14-4092-abd7-4c83ab504adb",
   "metadata": {},
   "outputs": [],
   "source": [
    "import os\n",
    "import pandas as pd"
   ]
  },
  {
   "cell_type": "code",
   "execution_count": 3,
   "id": "ef39385c-84d8-4bea-b46a-eb6e4b08f650",
   "metadata": {},
   "outputs": [],
   "source": [
    "def read_csv(*path_segments: str) -> pd.DataFrame:\n",
    "    \"\"\"Returns the requested CSV file as a Pandas DataFrame.\n",
    "    Parameters are path parts to concatenate to get the file's path\n",
    "    \"\"\"\n",
    "    return pd.read_csv(os.path.join(*path_segments), sep=\";\", encoding=\"utf-8\")"
   ]
  }
 ],
 "metadata": {
  "kernelspec": {
   "display_name": "Python 3 (ipykernel)",
   "language": "python",
   "name": "python3"
  },
  "language_info": {
   "codemirror_mode": {
    "name": "ipython",
    "version": 3
   },
   "file_extension": ".py",
   "mimetype": "text/x-python",
   "name": "python",
   "nbconvert_exporter": "python",
   "pygments_lexer": "ipython3",
   "version": "3.11.7"
  }
 },
 "nbformat": 4,
 "nbformat_minor": 5
}
