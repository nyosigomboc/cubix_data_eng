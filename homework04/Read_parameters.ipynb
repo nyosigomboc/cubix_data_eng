{
 "cells": [
  {
   "cell_type": "markdown",
   "id": "5968fc66-dc9b-4fd1-b0c6-fc6310625b28",
   "metadata": {},
   "source": [
    "# Provides a function to read parameters from a .XLSX file."
   ]
  },
  {
   "cell_type": "code",
   "execution_count": 3,
   "id": "39ecfdfd-7548-4823-be16-83151a964bd1",
   "metadata": {},
   "outputs": [],
   "source": [
    "import os\n",
    "import pandas as pd"
   ]
  },
  {
   "cell_type": "code",
   "execution_count": 27,
   "id": "c913ef9a-7cc3-47c4-903c-c7483fc4ff4f",
   "metadata": {},
   "outputs": [],
   "source": [
    "def read_params(path_segments: list, column_dict: dict, sheet_name) -> dict:\n",
    "    \"\"\"Reads the XLSX file given to be used as parameters (configuration) into a dictionary.\n",
    "    path_segments: a list of the parts of the file's path.\n",
    "    e.g.: ['c:\\\\', 'some_path', 'params.xlsx']\n",
    "    \n",
    "    column_dict: a dict with a mapping between config name and columns.\n",
    "    e.g.: {'sizes': 'A:A', 'countries': 'C:C', 'classes': 'E:F'}\n",
    "    \n",
    "    sheet_name: a string for the sheet name where the parameters are.\n",
    "    e.g.: 'Parameter tables'\n",
    "    \"\"\"\n",
    "    result = {}\n",
    "    \n",
    "    for name, columns in column_dict.items():\n",
    "        df = pd.read_excel(os.path.join(*path_segments), sheet_name = sheet_name, usecols = columns)\n",
    "        df.rename(columns = lambda x: x.split('.')[0], inplace=True)\n",
    "        id_name = df.columns[0]\n",
    "        df.dropna(subset = [id_name], inplace=True)\n",
    "        result[name] = df\n",
    "    \n",
    "    return result"
   ]
  },
  {
   "cell_type": "code",
   "execution_count": 19,
   "id": "d4cb561b-6552-4b2c-a0bf-5713130a0b5d",
   "metadata": {},
   "outputs": [],
   "source": [
    "if __name__ == '__main__':  # doesn't seem to work\n",
    "    pass\n",
    "    # param_pathlist = [r'c:\\Users\\nyos\\cubix_data_engineer\\Python_DA', 'Homework4', 'Parameters_Homework4.xlsx']\n",
    "    # param_columndict = {'sizes': 'A:A', 'countries': 'C:C', 'classes': 'E:F'}\n",
    "    # d = read_params(param_pathlist, param_columndict, 'Parameter tables')\n",
    "    # print(d)\n"
   ]
  },
  {
   "cell_type": "code",
   "execution_count": null,
   "id": "72653744-a2e9-47ab-b1a1-fa7dd6c9acdc",
   "metadata": {},
   "outputs": [],
   "source": []
  }
 ],
 "metadata": {
  "kernelspec": {
   "display_name": "Python 3 (ipykernel)",
   "language": "python",
   "name": "python3"
  },
  "language_info": {
   "codemirror_mode": {
    "name": "ipython",
    "version": 3
   },
   "file_extension": ".py",
   "mimetype": "text/x-python",
   "name": "python",
   "nbconvert_exporter": "python",
   "pygments_lexer": "ipython3",
   "version": "3.11.7"
  }
 },
 "nbformat": 4,
 "nbformat_minor": 5
}
