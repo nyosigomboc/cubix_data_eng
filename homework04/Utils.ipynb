{
 "cells": [
  {
   "cell_type": "markdown",
   "id": "48ffd4ae-e48f-47f9-b79f-4653fd85204e",
   "metadata": {},
   "source": [
    "# Utility functions"
   ]
  },
  {
   "cell_type": "code",
   "execution_count": 2,
   "id": "40894e6d-41f6-49ff-8af1-bb3953269c93",
   "metadata": {},
   "outputs": [],
   "source": [
    "import winsound\n",
    "import time"
   ]
  },
  {
   "cell_type": "code",
   "execution_count": 7,
   "id": "22de2685-e001-40ae-a3aa-604da6b42337",
   "metadata": {},
   "outputs": [],
   "source": [
    "start_time = time.perf_counter_ns()"
   ]
  },
  {
   "cell_type": "code",
   "execution_count": 48,
   "id": "02055c8b-6ddd-40ea-abc1-5f8057bc25e4",
   "metadata": {},
   "outputs": [],
   "source": [
    "def runtime() -> str:\n",
    "    \"\"\"Returns the elapsed time between importin this module until this function is called as a string.\n",
    "    \"\"\"\n",
    "    end_time = time.perf_counter_ns()  # more precise, not needed now\n",
    "    elapsed = (end_time - start_time) / 1_000_000_000\n",
    "    hour, remainder = divmod(elapsed, 3600)\n",
    "    minute, second = divmod(remainder, 60)\n",
    "    return f'Runtime: {int(hour):0>2}:{int(minute):0>2}:{second:05.2f}'"
   ]
  },
  {
   "cell_type": "code",
   "execution_count": 49,
   "id": "c50f40ab-eabb-478a-a237-d5b6f0114323",
   "metadata": {},
   "outputs": [],
   "source": [
    "def notify_done() -> None:\n",
    "    \"\"\"Notifies the user when the conversion is complete.\n",
    "    \"\"\"\n",
    "    print('Everything done.')\n",
    "    notify_sound = [587.33, 440, 493.88, 440, 369.99, 392, 369.99]\n",
    "    notify_time = 500\n",
    "    for freq in notify_sound:\n",
    "        winsound.Beep(int(round(freq)), notify_time)"
   ]
  }
 ],
 "metadata": {
  "kernelspec": {
   "display_name": "Python 3 (ipykernel)",
   "language": "python",
   "name": "python3"
  },
  "language_info": {
   "codemirror_mode": {
    "name": "ipython",
    "version": 3
   },
   "file_extension": ".py",
   "mimetype": "text/x-python",
   "name": "python",
   "nbconvert_exporter": "python",
   "pygments_lexer": "ipython3",
   "version": "3.11.7"
  }
 },
 "nbformat": 4,
 "nbformat_minor": 5
}
