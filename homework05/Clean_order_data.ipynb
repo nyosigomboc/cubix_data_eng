{
 "cells": [
  {
   "cell_type": "markdown",
   "id": "8288e44d-aa44-445c-bfa3-1543538b0436",
   "metadata": {},
   "source": [
    "# Cleanup of df DataFrame\n",
    "## Provides a function to clean up given DataFrame"
   ]
  },
  {
   "cell_type": "code",
   "execution_count": 1,
   "id": "93b55f58-2800-49a2-bc0e-408101b24f9e",
   "metadata": {},
   "outputs": [],
   "source": [
    "import pandas as pd"
   ]
  },
  {
   "cell_type": "code",
   "execution_count": 2,
   "id": "1ef50d02-381d-47fe-ac17-286d72d82a55",
   "metadata": {},
   "outputs": [],
   "source": [
    "def clean_dataframe(df: pd.DataFrame) -> pd.DataFrame:\n",
    "    \"\"\"Cleans up given DataFrame as required by 2nd week homework.\n",
    "    The only parameter is the pandas DataFrame to be cleaned up.\n",
    "    Returns the modified DataFrame as result.\n",
    "    Slightly cleaner code.\n",
    "    \"\"\"\n",
    "    df = convert_datafrane_types(df)\n",
    "    df = add_sizes(df)\n",
    "    df = fix_order(df)\n",
    "    return df"
   ]
  },
  {
   "cell_type": "code",
   "execution_count": 3,
   "id": "0ff25b5e-6fee-4783-9b61-098f7de2c486",
   "metadata": {},
   "outputs": [],
   "source": [
    "def convert_datafrane_types(df: pd.DataFrame) -> pd.DataFrame:\n",
    "    \"\"\"Convert columns to the required types.\n",
    "    The only parameter is the pandas DataFrame to be cleaned up.\n",
    "    Returns the modified DataFrame as result.\n",
    "    \"\"\"\n",
    "    df['Class'] = df['Class'].str.strip()\n",
    "    df['OrderDate'] = df['OrderDate'].astype('datetime64[ns]')\n",
    "    df['LineTotal'] = df['LineTotal'].str.replace(',', '.').astype('float64')\n",
    "    return df\n",
    "\n",
    "def add_sizes(df: pd.DataFrame) -> pd.DataFrame:\n",
    "    \"\"\"Extract the sizes from ProductName, and add the sizes column.\n",
    "    The only parameter is the pandas DataFrame to be cleaned up.\n",
    "    Returns the modified DataFrame as result.\n",
    "    \"\"\"\n",
    "    sizes = df['ProductName'].str.split(',', expand=True)[1].str.strip()\n",
    "    colors = ['Black', 'Red', 'Blue']\n",
    "    sizes = sizes.replace(colors, ['-'] * len(colors))\n",
    "    df['Size'] = sizes\n",
    "    return df\n",
    "\n",
    "def fix_order(df: pd.DataFrame) -> pd.DataFrame:\n",
    "    \"\"\"Sort the rows by OrderDate and Country, then reset the row indexes.\n",
    "    The only parameter is the pandas DataFrame to be cleaned up.\n",
    "    Returns the modified DataFrame as result.\n",
    "    \"\"\"\n",
    "    return df.sort_values(['OrderDate', 'Country']).reset_index(drop=True)"
   ]
  }
 ],
 "metadata": {
  "kernelspec": {
   "display_name": "Python 3 (ipykernel)",
   "language": "python",
   "name": "python3"
  },
  "language_info": {
   "codemirror_mode": {
    "name": "ipython",
    "version": 3
   },
   "file_extension": ".py",
   "mimetype": "text/x-python",
   "name": "python",
   "nbconvert_exporter": "python",
   "pygments_lexer": "ipython3",
   "version": "3.11.7"
  }
 },
 "nbformat": 4,
 "nbformat_minor": 5
}
