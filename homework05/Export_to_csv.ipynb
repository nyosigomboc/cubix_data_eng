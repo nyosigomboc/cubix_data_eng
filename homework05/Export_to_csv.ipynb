{
 "cells": [
  {
   "cell_type": "markdown",
   "id": "6504768f-0bde-4935-b60a-3fc2783d9f4c",
   "metadata": {},
   "source": [
    "# Provides a function to export a DataFrame"
   ]
  },
  {
   "cell_type": "code",
   "execution_count": 1,
   "id": "3a831caf-7bb0-43ba-9eaf-e4438d99ec69",
   "metadata": {},
   "outputs": [],
   "source": [
    "import os\n",
    "import pandas as pd"
   ]
  },
  {
   "cell_type": "code",
   "execution_count": 2,
   "id": "ea7bfd9e-c349-4f7f-baaf-db2098685d0c",
   "metadata": {},
   "outputs": [],
   "source": [
    "def write_csv(data_frame: pd.DataFrame, *path_segments: str) -> None:\n",
    "    \"\"\"Writes the Pandas DataFrame as a CSV file.\n",
    "    The first parameter is the DataFrame to export.\n",
    "    The rest of the parameters are path parts to concatenate to get the file's path.\n",
    "    \"\"\"\n",
    "    data_frame.to_csv(os.path.join(*path_segments), sep=\";\", encoding=\"utf-8\")"
   ]
  }
 ],
 "metadata": {
  "kernelspec": {
   "display_name": "Python 3 (ipykernel)",
   "language": "python",
   "name": "python3"
  },
  "language_info": {
   "codemirror_mode": {
    "name": "ipython",
    "version": 3
   },
   "file_extension": ".py",
   "mimetype": "text/x-python",
   "name": "python",
   "nbconvert_exporter": "python",
   "pygments_lexer": "ipython3",
   "version": "3.11.7"
  }
 },
 "nbformat": 4,
 "nbformat_minor": 5
}
