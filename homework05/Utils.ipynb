{
 "cells": [
  {
   "cell_type": "code",
   "execution_count": 1,
   "id": "40894e6d-41f6-49ff-8af1-bb3953269c93",
   "metadata": {},
   "outputs": [],
   "source": [
    "import os\n",
    "import pandas as pd\n",
    "import winsound\n",
    "import time\n",
    "import re"
   ]
  },
  {
   "cell_type": "code",
   "execution_count": 2,
   "id": "22de2685-e001-40ae-a3aa-604da6b42337",
   "metadata": {},
   "outputs": [],
   "source": [
    "start_time = time.perf_counter_ns()"
   ]
  },
  {
   "cell_type": "code",
   "execution_count": 3,
   "id": "02055c8b-6ddd-40ea-abc1-5f8057bc25e4",
   "metadata": {},
   "outputs": [],
   "source": [
    "def runtime() -> str:\n",
    "    \"\"\"Returns the elapsed time between importin this module until this function is called as a string.\n",
    "    \"\"\"\n",
    "    end_time = time.perf_counter_ns()  # more precise, not needed now\n",
    "    elapsed = (end_time - start_time) / 1_000_000_000\n",
    "    hour, remainder = divmod(elapsed, 3600)\n",
    "    minute, second = divmod(remainder, 60)\n",
    "    return f'Runtime: {int(hour):0>2}:{int(minute):0>2}:{second:05.2f}'"
   ]
  },
  {
   "cell_type": "code",
   "execution_count": 4,
   "id": "c50f40ab-eabb-478a-a237-d5b6f0114323",
   "metadata": {},
   "outputs": [],
   "source": [
    "def notify_done() -> None:\n",
    "    \"\"\"Notifies the user when the conversion is complete.\n",
    "    \"\"\"\n",
    "    print('Everything done.')\n",
    "    notify_sound = [587.33, 440, 493.88, 440, 369.99, 392, 369.99]\n",
    "    notify_time = 500\n",
    "    for freq in notify_sound:\n",
    "        winsound.Beep(int(round(freq)), notify_time)"
   ]
  },
  {
   "cell_type": "code",
   "execution_count": 5,
   "id": "0e10dcb7-0b94-4fa2-aa42-bdc774e7652b",
   "metadata": {},
   "outputs": [],
   "source": [
    "def mkdir_minus_p(*path_segments: str) -> None:\n",
    "    \"\"\"Makes sure the given directory exists.\n",
    "    Takes path segments as strings.\n",
    "    \"\"\"\n",
    "    full_path = os.path.normpath(os.path.join(*path_segments))\n",
    "    os.makedirs(full_path, exist_ok=True)"
   ]
  },
  {
   "cell_type": "code",
   "execution_count": 6,
   "id": "b3d9bf1d-774e-4a56-b7be-2bbf6e5b1a8e",
   "metadata": {},
   "outputs": [],
   "source": [
    "def get_year(file_name: str) -> str | None:\n",
    "    \"\"\"Returns a year-looking string part of a given filename.\n",
    "    Returns None if there was no match.\n",
    "    \"\"\"\n",
    "    if m := re.search('\\D(?P<year>\\d{4})\\D', file_name):\n",
    "        return m.groupdict()['year']\n",
    "    return None"
   ]
  },
  {
   "cell_type": "code",
   "execution_count": 7,
   "id": "23b839ee-1061-4058-9048-e04ec36a2983",
   "metadata": {},
   "outputs": [],
   "source": [
    "def get_filtered_list(df: pd.DataFrame, column_name: str, column_value: str, result_column: str) -> list:\n",
    "    \"\"\"Filters the given Pandas DataFrame to have only the matching rows. Then the chosen column is returned as a list.\n",
    "        df: is the Dataframe\n",
    "        column_name: df's column to examined\n",
    "        column_value: keep only these rows\n",
    "        result_column: df column to keep and return\n",
    "    \"\"\"\n",
    "    result = df[ df[column_name] == column_value ]\n",
    "    return result[result_column].tolist()"
   ]
  }
 ],
 "metadata": {
  "kernelspec": {
   "display_name": "Python 3 (ipykernel)",
   "language": "python",
   "name": "python3"
  },
  "language_info": {
   "codemirror_mode": {
    "name": "ipython",
    "version": 3
   },
   "file_extension": ".py",
   "mimetype": "text/x-python",
   "name": "python",
   "nbconvert_exporter": "python",
   "pygments_lexer": "ipython3",
   "version": "3.11.7"
  }
 },
 "nbformat": 4,
 "nbformat_minor": 5
}
