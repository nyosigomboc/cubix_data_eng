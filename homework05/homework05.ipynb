{
 "cells": [
  {
   "cell_type": "markdown",
   "id": "980957d0-f471-4885-a2a2-d05bf6d61c25",
   "metadata": {},
   "source": [
    "# Homework - Week 5:\n",
    "```\n",
    "Put the \"Homework5\" folder inside the main \"Python_DA\" training folder, the path of this folder will be the base path now.\n",
    "Do the following cleaning/filtering/translating tasks on ALL the source files within the \"Input\" folder's subfolders:\n",
    "\n",
    "Tasks:\n",
    "1. Use your \"Read_parameters.ipynb\" external program to read the parameter tables from \"Parameters_Homework5.xlsx\" (-> paramlist)\n",
    "2. As the \"Size\" data in the 1st parameter table can be numeric and text values mixed, convert \"Size\" column to STRING data type (otherwise only the texts will be matched, e.g. \"XL\")\n",
    "3. The input folder paths of the input files are in the 1st parameter table, loop through the rows of this table to do the following subtasks on each input file (put comments in the program for each subtasks to explain them to the user):\n",
    "    a. Filter the parameter dataframes to input file (paramlist -> paramlist_filt)\n",
    "    b. Read the input file from its input folder path\n",
    "    c. Use the \"Clean_order_data.ipynb\" external program to clean it\n",
    "    d. Filter it on only the rows with the Sizes and Countries specified for the input file\n",
    "    e. Look up the related Class Names of the class id's (\"H\", \"M\", \"L\"), into a separate \"Class Name\" column\n",
    "    f. Remove \"Class\" column, as we only need \"Class ID\" column instead\n",
    "    g. Translate the column headers based on the last parameter table with dictionary\n",
    "    h. The output folder should be a \"2011\" / \"2012\" / \"2013\" / \"2014\" subfolder inside the \"Output\" folder (based on input file’s name), the program should create these folders (if they do not exist)\n",
    "    i. Use your \"Export_to_csv.ipynb\" external program to export the cleaned, filtered, translated dataframe to the output folder, the output file's name should be the same as the input file, but with a \"_cleaned_filtered_translated.csv\" ending\n",
    "4. Read the \"Orders_2011_cleaned_filtered_translated.csv\" into a dataframe\n",
    "    a. Create a Pivot Table on it, Rows: \"Size\", Columns: \"Class Name\", Values: \"Revenue\", and write it out in cell output\n",
    "    b. Create a Stacked column (vertical bar) Chart on the Pivot table, and write it out\n",
    "5. Create minimum three Markdown cells which give explanations about the goals of the program’s sections\n",
    "6. At the end, write out the runtime, and a beep sound and a final printed message should notify the user\n",
    "\n",
    "Upload your final Jupyter notebook (.ipynb) in ZIP!\n",
    "```"
   ]
  },
  {
   "cell_type": "code",
   "execution_count": 1,
   "id": "0706e971-959a-46f0-ba50-4018e2f0f584",
   "metadata": {},
   "outputs": [],
   "source": [
    "# imports of python modules and notebooks\n",
    "import os\n",
    "import pandas as pd\n",
    "\n",
    "# instead of calling the notebooks inline, most notebooks have exported functions\n",
    "# import those here\n",
    "%run Read_csv.ipynb\n",
    "%run Read_parameters.ipynb\n",
    "%run Export_to_csv.ipynb\n",
    "%run Utils.ipynb\n",
    "%run Clean_order_data.ipynb"
   ]
  },
  {
   "cell_type": "markdown",
   "id": "d1a70cab-6795-44fe-b746-a01b2a5743cd",
   "metadata": {},
   "source": [
    "## Constants, please adjust them according to your settings"
   ]
  },
  {
   "cell_type": "code",
   "execution_count": 2,
   "id": "9e6f542e-f326-4ce0-9c9c-95686224c3df",
   "metadata": {},
   "outputs": [],
   "source": [
    "# constants\n",
    "BASE_PATH = r'd:\\Trainings\\Cubix\\Python_DA'\n",
    "HOMEWORK_DIR = 'Homework5'\n",
    "INPUT_DIR = 'Input'\n",
    "OUTPUT_DIR = 'Output'\n",
    "PARAM_FILE = 'Parameters_Homework5.xlsx'\n",
    "param_columndict = {'files':'A:B', 'sizes': 'D:E', 'countries': 'G:H', 'classes': 'J:K', 'translations': 'M:O'}"
   ]
  },
  {
   "cell_type": "code",
   "execution_count": 3,
   "id": "5e2bc050-dd40-40ad-bf6f-d0503071db14",
   "metadata": {},
   "outputs": [],
   "source": [
    "FULL_HOMEWORK_PATH = [BASE_PATH, HOMEWORK_DIR]\n",
    "FULL_INPUT_PATH = FULL_HOMEWORK_PATH + [INPUT_DIR]"
   ]
  },
  {
   "cell_type": "markdown",
   "id": "8bd0fcf7-1702-4ebb-8989-db8442096d3a",
   "metadata": {},
   "source": [
    "## Read parameters and prepare them for usage\n",
    "```\n",
    "1. Use your \"Read_parameters.ipynb\" external program to read the parameter tables from \"Parameters_Homework5.xlsx\" (-> paramlist)\n",
    "2. As the \"Size\" data in the 1st parameter table can be numeric and text values mixed, convert \"Size\" column to STRING data type (otherwise only the texts will be matched, e.g. \"XL\")\n",
    "```"
   ]
  },
  {
   "cell_type": "code",
   "execution_count": 4,
   "id": "e886db96-ba5c-4bb0-87ae-9e644b6bf62e",
   "metadata": {},
   "outputs": [],
   "source": [
    "param_pathlist = FULL_HOMEWORK_PATH + [PARAM_FILE]\n",
    "parameters = read_params(param_pathlist, param_columndict, 'Parameter tables')\n",
    "parameters['sizes']['Size'] = parameters['sizes']['Size'].astype('str')"
   ]
  },
  {
   "cell_type": "markdown",
   "id": "07a200e0-af49-458a-b08e-a0df84dcf5dc",
   "metadata": {},
   "source": [
    "## Process CSV files\n",
    "```\n",
    "3. The input folder paths of the input files are in the 1st parameter table, loop through the rows of this table to do the following subtasks on each input file (put comments in the program for each subtasks to explain them to the user):\n",
    "```"
   ]
  },
  {
   "cell_type": "code",
   "execution_count": 5,
   "id": "28ef786b-55f6-4382-bade-23aad98a834f",
   "metadata": {},
   "outputs": [],
   "source": [
    "def process_csv(input_name: str, input_full_path: str, output_full_path: str, params: list[pd.DataFrame]) -> None:\n",
    "    \"\"\"Processes a given csv file according to the specification.\n",
    "    Takes 4 parameters, a file name, and the full path of the input and output.\n",
    "    The last parameter is the parameters list (of DataFrames) for the filtering.\n",
    "    File name is necessary, because filters are based on that.\n",
    "    Returns None, its output is written to the file.\n",
    "    \"\"\"\n",
    "    # a. Filter the parameter dataframes to input file (paramlist -> paramlist_filt)\n",
    "    filtered_size_list = get_filtered_list(params['sizes'], 'Input file', input_name, 'Size')\n",
    "    filtered_country_list = get_filtered_list(params['countries'], 'Input file', input_name, 'Country')\n",
    "    from_column_name = get_filtered_list(params['translations'], 'Input file', input_name, 'Old header')\n",
    "    to_column_name = get_filtered_list(params['translations'], 'Input file', input_name, 'New header')\n",
    "    # b. Read the input file from its input folder path\n",
    "    df = read_csv(input_full_path)\n",
    "    # c. Use the \"Clean_order_data.ipynb\" external program to clean it\n",
    "    df = clean_dataframe(df)\n",
    "    # d. Filter it on only the rows with the Sizes and Countries specified for the input file\n",
    "    df = df[ df['Size'].isin(filtered_size_list) ]\n",
    "    df = df[ df['Country'].isin(filtered_country_list) ]\n",
    "    # e. Look up the related Class Names of the class id's (\"H\", \"M\", \"L\"), into a separate \"Class Name\" column\n",
    "    df = pd.merge(df, params['classes'], left_on='Class', right_on='Class ID', how='left')\n",
    "    # f. Remove \"Class\" column, as we only need \"Class ID\" column instead\n",
    "    del df['Class']\n",
    "    # g. Translate the column headers based on the last parameter table with dictionary\n",
    "    translate_dict = dict(zip(from_column_name, to_column_name))\n",
    "    df.columns = pd.Series(df.columns).replace(translate_dict)\n",
    "    # i. Use your \"Export_to_csv.ipynb\" external program to export the cleaned, filtered, translated dataframe\n",
    "    # to the output folder, the output file's name should be the same as the input file, but with a \"_cleaned_filtered_translated.csv\" ending\n",
    "    write_csv(df, output_full_path)"
   ]
  },
  {
   "cell_type": "code",
   "execution_count": 6,
   "id": "230aea6e-286c-4005-a680-8fb08cdd42a0",
   "metadata": {},
   "outputs": [],
   "source": [
    "for row_index, file_row in parameters['files'].iterrows():\n",
    "    file_name = file_row['Input file']\n",
    "    file_path = file_row['Input folder path']\n",
    "    file_year = get_year(file_name)\n",
    "    assert file_year\n",
    "    full_file_path = os.path.join(file_path, file_name)\n",
    "    file_output_dir = os.path.join(BASE_PATH, HOMEWORK_DIR, OUTPUT_DIR, file_year)\n",
    "    file_output_name = file_name.replace('.csv', \"_cleaned_filtered_translated.csv\")\n",
    "    file_output_path = os.path.join(file_output_dir, file_output_name)\n",
    "    # h. The output folder should be a \"2011\" / \"2012\" / \"2013\" / \"2014\" subfolder inside the \"Output\" folder\n",
    "    # (based on input file’s name), the program should create these folders (if they do not exist)\n",
    "    mkdir_minus_p(file_output_dir)\n",
    "    process_csv(file_name, full_file_path, file_output_path, parameters)"
   ]
  },
  {
   "cell_type": "markdown",
   "id": "d0d2704a-fd35-4a37-b8b7-1fffac1f081e",
   "metadata": {},
   "source": [
    "## Pivot table, graph\n",
    "```\n",
    "4. Read the \"Orders_2011_cleaned_filtered_translated.csv\" into a dataframe\n",
    "    a. Create a Pivot Table on it, Rows: \"Size\", Columns: \"Class Name\", Values: \"Revenue\", and write it out in cell output\n",
    "    b. Create a Stacked column (vertical bar) Chart on the Pivot table, and write it out\n",
    "```"
   ]
  },
  {
   "cell_type": "code",
   "execution_count": 7,
   "id": "b3eb6ceb-eaa5-4e22-91bd-89a10071e2ba",
   "metadata": {},
   "outputs": [
    {
     "data": {
      "text/html": [
       "<div>\n",
       "<style scoped>\n",
       "    .dataframe tbody tr th:only-of-type {\n",
       "        vertical-align: middle;\n",
       "    }\n",
       "\n",
       "    .dataframe tbody tr th {\n",
       "        vertical-align: top;\n",
       "    }\n",
       "\n",
       "    .dataframe thead th {\n",
       "        text-align: right;\n",
       "    }\n",
       "</style>\n",
       "<table border=\"1\" class=\"dataframe\">\n",
       "  <thead>\n",
       "    <tr style=\"text-align: right;\">\n",
       "      <th>Class Name</th>\n",
       "      <th>High</th>\n",
       "      <th>Low</th>\n",
       "      <th>Medium</th>\n",
       "    </tr>\n",
       "    <tr>\n",
       "      <th>Size</th>\n",
       "      <th></th>\n",
       "      <th></th>\n",
       "      <th></th>\n",
       "    </tr>\n",
       "  </thead>\n",
       "  <tbody>\n",
       "    <tr>\n",
       "      <th>38</th>\n",
       "      <td>553658.0894</td>\n",
       "      <td>NaN</td>\n",
       "      <td>NaN</td>\n",
       "    </tr>\n",
       "    <tr>\n",
       "      <th>42</th>\n",
       "      <td>418212.1710</td>\n",
       "      <td>NaN</td>\n",
       "      <td>NaN</td>\n",
       "    </tr>\n",
       "    <tr>\n",
       "      <th>44</th>\n",
       "      <td>776355.9407</td>\n",
       "      <td>98618.5134</td>\n",
       "      <td>50738.052</td>\n",
       "    </tr>\n",
       "    <tr>\n",
       "      <th>46</th>\n",
       "      <td>14451.8980</td>\n",
       "      <td>NaN</td>\n",
       "      <td>NaN</td>\n",
       "    </tr>\n",
       "  </tbody>\n",
       "</table>\n",
       "</div>"
      ],
      "text/plain": [
       "Class Name         High         Low     Medium\n",
       "Size                                          \n",
       "38          553658.0894         NaN        NaN\n",
       "42          418212.1710         NaN        NaN\n",
       "44          776355.9407  98618.5134  50738.052\n",
       "46           14451.8980         NaN        NaN"
      ]
     },
     "execution_count": 7,
     "metadata": {},
     "output_type": "execute_result"
    }
   ],
   "source": [
    "file_name = \"Orders_2011_cleaned_filtered_translated.csv\"\n",
    "year_name = get_year(file_name)\n",
    "df = read_csv(BASE_PATH, HOMEWORK_DIR, OUTPUT_DIR, year_name, file_name)\n",
    "pivot_sum_rev = pd.pivot_table(df, values = 'Revenue', index = ['Size'], columns = ['Class Name'], aggfunc = 'sum')\n",
    "pivot_sum_rev"
   ]
  },
  {
   "cell_type": "code",
   "execution_count": 8,
   "id": "98f95f04-e336-4842-9d76-fe53be79b98b",
   "metadata": {},
   "outputs": [
    {
     "data": {
      "text/plain": [
       "<Axes: xlabel='Size'>"
      ]
     },
     "execution_count": 8,
     "metadata": {},
     "output_type": "execute_result"
    },
    {
     "data": {
      "image/png": "[encoded data removed]",
      "text/plain": [
       "<Figure size 640x480 with 1 Axes>"
      ]
     },
     "metadata": {},
     "output_type": "display_data"
    }
   ],
   "source": [
    "pivot_sum_rev.plot(kind = 'bar', stacked = True)"
   ]
  },
  {
   "cell_type": "markdown",
   "id": "19e56088-4502-420d-a0f5-4e0ba7d7cc48",
   "metadata": {},
   "source": [
    "## Processing finished, notify the user\n",
    "```\n",
    "6. At the end, write out the runtime, and a beep sound and a final printed message should notify the user\n",
    "```"
   ]
  },
  {
   "cell_type": "code",
   "execution_count": 9,
   "id": "0cd99115-0c65-4288-b4b3-0c801980985f",
   "metadata": {},
   "outputs": [
    {
     "data": {
      "text/plain": [
       "'Runtime: 00:00:02.87'"
      ]
     },
     "execution_count": 9,
     "metadata": {},
     "output_type": "execute_result"
    }
   ],
   "source": [
    "runtime()"
   ]
  },
  {
   "cell_type": "code",
   "execution_count": 10,
   "id": "47b90e71-59e2-4e06-8501-0187a997cbc0",
   "metadata": {},
   "outputs": [
    {
     "name": "stdout",
     "output_type": "stream",
     "text": [
      "Everything done.\n"
     ]
    }
   ],
   "source": [
    "notify_done()"
   ]
  }
 ],
 "metadata": {
  "kernelspec": {
   "display_name": "Python 3 (ipykernel)",
   "language": "python",
   "name": "python3"
  },
  "language_info": {
   "codemirror_mode": {
    "name": "ipython",
    "version": 3
   },
   "file_extension": ".py",
   "mimetype": "text/x-python",
   "name": "python",
   "nbconvert_exporter": "python",
   "pygments_lexer": "ipython3",
   "version": "3.11.7"
  }
 },
 "nbformat": 4,
 "nbformat_minor": 5
}
