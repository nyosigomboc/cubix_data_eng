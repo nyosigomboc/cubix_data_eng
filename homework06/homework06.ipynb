{
 "cells": [
  {
   "cell_type": "markdown",
   "metadata": {},
   "source": [
    "# Homework06\n",
    "```\n",
    "Data Engineer\n",
    "Assignments / Homeworks\n",
    "Module II:\n",
    "Homework 1 - Week 1:\n",
    "\n",
    "Create a notebook to answer these questions:\n",
    "\n",
    "Tasks:\n",
    "1. Download the playlist.json from the shared folder, open it with Python.\n",
    "2. Print the name of the 31st track.\n",
    "3. In these 50 tracks, what is the total playcount? Print the number only.\n",
    "4. Which track has the lowest playcount? Print it out in this format \"The lowest playcount is {song_name}.\" Hint: Use \"f string\".\n",
    "\n",
    "Final Exam preparations:\n",
    "As part of the Final Exam, create a GitHub profile (if you don't have already), and start to upload this project. Get used to pushing your code every time you change something in the code. If you are not familiar with GitHub (pushing, pulling, branches, how to connect it with VSCode) check tutorials, or the official documentation.\n",
    "\n",
    "You can use the same structure as in the videos, but feel free to do something different.\n",
    "\n",
    "As you progress, create a meaningful README.md file to introduce the project. Look for examples from other projects' readme files.\n",
    "\n",
    "At Week 12, as part of the Final Exam, I'll check your profile to make sure that you have all the necessary codes, and a useful readme file.\n",
    "```"
   ]
  },
  {
   "cell_type": "code",
   "execution_count": 1,
   "metadata": {},
   "outputs": [],
   "source": [
    "# imports\n",
    "\n",
    "import json"
   ]
  },
  {
   "cell_type": "markdown",
   "metadata": {},
   "source": [
    "### Constants"
   ]
  },
  {
   "cell_type": "code",
   "execution_count": 2,
   "metadata": {},
   "outputs": [],
   "source": [
    "JSON_PATH = r'./json_handling/spotify_playlist.json'"
   ]
  },
  {
   "cell_type": "markdown",
   "metadata": {},
   "source": [
    "### Utility functions"
   ]
  },
  {
   "cell_type": "code",
   "execution_count": 3,
   "metadata": {},
   "outputs": [],
   "source": [
    "def read_json(file_path: str) -> any:\n",
    "    \"\"\"Parse the given JSON file and return its contents.\n",
    "    \n",
    "    Args:\n",
    "        file_path (str): Path to the given file.\n",
    "    \n",
    "    Returns:\n",
    "        The file's contents. Could be a primitive, or - most of the time - a list or a dict.\n",
    "    \"\"\"\n",
    "    with open(file_path, 'r') as json_file:\n",
    "        return json.load(json_file)\n",
    "    \n",
    "\n",
    "def get_song_name_by_number(data: dict, nth: int) -> str:\n",
    "    \"\"\"Returns the name of the Nth song.\n",
    "    Please note that the 1st song has the 0 index, so the number must be shifted by one.\n",
    "    As the saying goes:\n",
    "    \"There are 2 hard problems in computer science: cache invalidation, naming things, and off-by-1 errors.\"\n",
    "    \n",
    "    Args:\n",
    "        data (dict): The JSON-parsed data.\n",
    "        nth (int): The number of the song in the list.\n",
    "    \n",
    "    Returns:\n",
    "        Song's name (title) as a string.\n",
    "    \"\"\"\n",
    "    return data['contents']['items'][nth - 1]['name']\n",
    "\n",
    "\n",
    "def get_total_playcount(data: dict) -> int:\n",
    "    \"\"\"Returns the total playcount of all songs as an integer.\n",
    "    \n",
    "    Args:\n",
    "        data (dict): The JSON-parsed data.\n",
    "    \n",
    "    Returns:\n",
    "        Total playcount.\n",
    "    \"\"\"\n",
    "    return sum([song['playCount'] for song in data['contents']['items']])\n",
    "\n",
    "\n",
    "def get_playcount_song_name_sorted(data: dict) -> list[tuple[int, str]]:\n",
    "    \"\"\"Returns a list of tuples with playcount and song name.\n",
    "    The list is ordered by playcount, then name.\n",
    "\n",
    "    Args:\n",
    "        data (dict): The JSON-parsed data.\n",
    "    \n",
    "    Returns:\n",
    "        Ordered list of tuples with playcount and song name.\n",
    "    \"\"\"\n",
    "    songs = [(song['playCount'], song['name']) for song in data['contents']['items']]\n",
    "    songs.sort()\n",
    "    return songs"
   ]
  },
  {
   "cell_type": "code",
   "execution_count": 4,
   "metadata": {},
   "outputs": [],
   "source": [
    "# 1. Download the playlist.json from the shared folder, open it with Python.\n",
    "data = read_json(JSON_PATH)"
   ]
  },
  {
   "cell_type": "code",
   "execution_count": 5,
   "metadata": {},
   "outputs": [
    {
     "name": "stdout",
     "output_type": "stream",
     "text": [
      "Style\n"
     ]
    }
   ],
   "source": [
    "# 2. Print the name of the 31st track.\n",
    "print(get_song_name_by_number(data, 31))"
   ]
  },
  {
   "cell_type": "code",
   "execution_count": 6,
   "metadata": {},
   "outputs": [
    {
     "name": "stdout",
     "output_type": "stream",
     "text": [
      "31309112207\n"
     ]
    }
   ],
   "source": [
    "# 3. In these 50 tracks, what is the total playcount? Print the number only.\n",
    "print(get_total_playcount(data))"
   ]
  },
  {
   "cell_type": "code",
   "execution_count": 7,
   "metadata": {},
   "outputs": [
    {
     "name": "stdout",
     "output_type": "stream",
     "text": [
      "The lowest playcount is Si No Estás.\n"
     ]
    }
   ],
   "source": [
    "# 4. Which track has the lowest playcount? Print it out in this format \"The lowest playcount is {song_name}.\" Hint: Use \"f string\".\n",
    "songs = get_playcount_song_name_sorted(data)\n",
    "least_played_song_playcount, least_played_song_name = songs[0]\n",
    "print(f\"The lowest playcount is {least_played_song_name}.\")"
   ]
  },
  {
   "cell_type": "code",
   "execution_count": 8,
   "metadata": {},
   "outputs": [
    {
     "name": "stdout",
     "output_type": "stream",
     "text": [
      "Everything done.\n"
     ]
    }
   ],
   "source": [
    "print(\"Everything done.\")"
   ]
  },
  {
   "cell_type": "markdown",
   "metadata": {},
   "source": [
    "My repo is here: https://github.com/nyosigomboc/cubix_data_eng\n",
    "This is in the homework06 directory."
   ]
  }
 ],
 "metadata": {
  "kernelspec": {
   "display_name": "Python 3",
   "language": "python",
   "name": "python3"
  },
  "language_info": {
   "codemirror_mode": {
    "name": "ipython",
    "version": 3
   },
   "file_extension": ".py",
   "mimetype": "text/x-python",
   "name": "python",
   "nbconvert_exporter": "python",
   "pygments_lexer": "ipython3",
   "version": "3.10.7"
  }
 },
 "nbformat": 4,
 "nbformat_minor": 2
}
